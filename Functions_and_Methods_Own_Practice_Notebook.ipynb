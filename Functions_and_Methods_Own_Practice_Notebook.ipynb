{
  "nbformat": 4,
  "nbformat_minor": 0,
  "metadata": {
    "colab": {
      "provenance": [],
      "authorship_tag": "ABX9TyOipZCLE9/4iACCc0srmSyw",
      "include_colab_link": true
    },
    "kernelspec": {
      "name": "python3",
      "display_name": "Python 3"
    },
    "language_info": {
      "name": "python"
    }
  },
  "cells": [
    {
      "cell_type": "markdown",
      "metadata": {
        "id": "view-in-github",
        "colab_type": "text"
      },
      "source": [
        "<a href=\"https://colab.research.google.com/github/Ankur241289/Data_Science_Portfolio/blob/main/Functions_and_Methods_Own_Practice_Notebook.ipynb\" target=\"_parent\"><img src=\"https://colab.research.google.com/assets/colab-badge.svg\" alt=\"Open In Colab\"/></a>"
      ]
    },
    {
      "cell_type": "markdown",
      "source": [
        "PRACTICE NOTEBOOK"
      ],
      "metadata": {
        "id": "624sPxtmUl1W"
      }
    },
    {
      "cell_type": "code",
      "source": [
        "heisenberg_quote = \"It ceases to exist without me. No, you clearly don't know who you're talking to, so let me clue you in. I am not in danger, Skyler. I am the danger.\""
      ],
      "metadata": {
        "id": "FPEI0gkn3g_0"
      },
      "execution_count": 1,
      "outputs": []
    },
    {
      "cell_type": "code",
      "source": [
        "starwars_quote = \"May the Force be with you.\""
      ],
      "metadata": {
        "id": "6VCFDqOv3lnz"
      },
      "execution_count": 2,
      "outputs": []
    },
    {
      "cell_type": "code",
      "source": [
        "words_by_walter = heisenberg_quote.split(\" \")\n",
        "print(words_by_walter)"
      ],
      "metadata": {
        "colab": {
          "base_uri": "https://localhost:8080/"
        },
        "id": "3bYxzsMj3qY8",
        "outputId": "bc261e73-67e9-44d9-be87-77d5fc2d9c4c"
      },
      "execution_count": null,
      "outputs": [
        {
          "output_type": "stream",
          "name": "stdout",
          "text": [
            "['It', 'ceases', 'to', 'exist', 'without', 'me.', 'No,', 'you', 'clearly', \"don't\", 'know', 'who', \"you're\", 'talking', 'to,', 'so', 'let', 'me', 'clue', 'you', 'in.', 'I', 'am', 'not', 'in', 'danger,', 'Skyler.', 'I', 'am', 'the', 'danger.']\n"
          ]
        }
      ]
    },
    {
      "cell_type": "code",
      "source": [
        "first_letters = [word[0] for word in words_by_walter]\n",
        "print(first_letters)"
      ],
      "metadata": {
        "colab": {
          "base_uri": "https://localhost:8080/"
        },
        "id": "hTpv82Ll31Dk",
        "outputId": "8d7bc396-77c1-435a-8275-6ba05ba00024"
      },
      "execution_count": null,
      "outputs": [
        {
          "output_type": "stream",
          "name": "stdout",
          "text": [
            "['I', 'c', 't', 'e', 'w', 'm', 'N', 'y', 'c', 'd', 'k', 'w', 'y', 't', 't', 's', 'l', 'm', 'c', 'y', 'i', 'I', 'a', 'n', 'i', 'd', 'S', 'I', 'a', 't', 'd']\n"
          ]
        }
      ]
    },
    {
      "cell_type": "markdown",
      "source": [
        "# Now we will try to define a function to do the whole operation that we have done above i.e a function which whill take asentence as an argument and returns list of first letters of that sentence."
      ],
      "metadata": {
        "id": "SiwWwsFiL72O"
      }
    },
    {
      "cell_type": "code",
      "source": [
        "def return_first_letters(sentence):\n",
        "  '''\n",
        "  This function takes a sentence as an argument\n",
        "  and returns a list of first letters of that sentence\n",
        "  as an element\n",
        "  '''\n",
        "  # Step 1 : Storing the words of sentence in a variable\n",
        "\n",
        "  words_in_sentence = sentence.split(\" \")\n",
        "\n",
        "  # Step 2 : storing the first letters of each word in 2nd variable\n",
        "\n",
        "  first_letters = [word[0] for word in words_in_sentence]\n",
        "\n",
        "  # Return the required output\n",
        "\n",
        "  return first_letters"
      ],
      "metadata": {
        "id": "2oT-Gjiw39E5"
      },
      "execution_count": null,
      "outputs": []
    },
    {
      "cell_type": "code",
      "source": [
        "first_letters_two = return_first_letters(heisenberg_quote)\n",
        "print(first_letters_two)"
      ],
      "metadata": {
        "colab": {
          "base_uri": "https://localhost:8080/"
        },
        "id": "nkM_kEFY5T8W",
        "outputId": "3bb4ce4a-cac3-431c-e5ae-9b6fef5a0a0c"
      },
      "execution_count": null,
      "outputs": [
        {
          "output_type": "stream",
          "name": "stdout",
          "text": [
            "['I', 'c', 't', 'e', 'w', 'm', 'N', 'y', 'c', 'd', 'k', 'w', 'y', 't', 't', 's', 'l', 'm', 'c', 'y', 'i', 'I', 'a', 'n', 'i', 'd', 'S', 'I', 'a', 't', 'd']\n"
          ]
        }
      ]
    },
    {
      "cell_type": "code",
      "source": [
        "first_letters_three = return_first_letters(starwars_quote)\n",
        "first_letters_three"
      ],
      "metadata": {
        "colab": {
          "base_uri": "https://localhost:8080/"
        },
        "id": "joOG3Rup5lnY",
        "outputId": "e75dd1c9-25d9-430e-d78d-91f1dfa86afa"
      },
      "execution_count": null,
      "outputs": [
        {
          "output_type": "execute_result",
          "data": {
            "text/plain": [
              "['M', 't', 'F', 'b', 'w', 'y']"
            ]
          },
          "metadata": {},
          "execution_count": 9
        }
      ]
    },
    {
      "cell_type": "code",
      "source": [],
      "metadata": {
        "id": "Le-Z6Ac753Cq"
      },
      "execution_count": null,
      "outputs": []
    },
    {
      "cell_type": "markdown",
      "source": [
        "# Now we will try to define a function which will give us factorial of any given input."
      ],
      "metadata": {
        "id": "CUxha4RV7cBq"
      }
    },
    {
      "cell_type": "code",
      "source": [
        "def return_factorial(number):\n",
        "  '''\n",
        "  This fuction takes interger as an argument and returns \n",
        "  factorial of that input\n",
        "  ''' \n",
        "  if number > 0:\n",
        "    list_of_number = []\n",
        "    while number > 0:\n",
        "      list_of_number.append(number)\n",
        "      number = number - 1\n",
        "    \n",
        "    factorial = 1\n",
        "    for i in list_of_number:\n",
        "      factorial = factorial * i\n",
        "    return factorial\n",
        "\n",
        "  elif number == 0:\n",
        "    print(\"Factorial for zero is 1\")\n",
        "\n",
        "  elif number < 0:\n",
        "    print(\"factorial is not defined for negetive numbers\")\n"
      ],
      "metadata": {
        "id": "MQZ58VH97lPW"
      },
      "execution_count": 31,
      "outputs": []
    },
    {
      "cell_type": "code",
      "source": [
        "return_factorial(6)"
      ],
      "metadata": {
        "colab": {
          "base_uri": "https://localhost:8080/"
        },
        "id": "3Pc2Kodx9KD3",
        "outputId": "cc000ed8-a483-41a6-9a2a-83027c4b3b5c"
      },
      "execution_count": 35,
      "outputs": [
        {
          "output_type": "execute_result",
          "data": {
            "text/plain": [
              "720"
            ]
          },
          "metadata": {},
          "execution_count": 35
        }
      ]
    },
    {
      "cell_type": "code",
      "source": [
        "return_factorial(10)"
      ],
      "metadata": {
        "colab": {
          "base_uri": "https://localhost:8080/"
        },
        "id": "wgNw_uUw8j3G",
        "outputId": "d0d39057-3cf7-4fb1-80d6-88d0efda28e6"
      },
      "execution_count": 37,
      "outputs": [
        {
          "output_type": "execute_result",
          "data": {
            "text/plain": [
              "3628800"
            ]
          },
          "metadata": {},
          "execution_count": 37
        }
      ]
    },
    {
      "cell_type": "markdown",
      "source": [
        "#How can we use the above define return_factorial function to get factorial of a list of number??\n"
      ],
      "metadata": {
        "id": "bfJCRH6iPqcY"
      }
    },
    {
      "cell_type": "code",
      "source": [
        "list_of_numbers = [0,2,1,5,10,6,25,40,-1,-250]"
      ],
      "metadata": {
        "id": "y0NbfeiLP1Do"
      },
      "execution_count": 42,
      "outputs": []
    },
    {
      "cell_type": "code",
      "source": [
        "factorial_list_of_numbers = [return_factorial(i) for i in list_of_numbers]\n",
        "print(factorial_list_of_numbers)"
      ],
      "metadata": {
        "colab": {
          "base_uri": "https://localhost:8080/"
        },
        "id": "T5p_rg_lQCq9",
        "outputId": "5dbe2a2c-9719-463c-a0ba-d40565c7bf11"
      },
      "execution_count": 43,
      "outputs": [
        {
          "output_type": "stream",
          "name": "stdout",
          "text": [
            "Factorial for zero is 1\n",
            "factorial is not defined for negetive numbers\n",
            "factorial is not defined for negetive numbers\n",
            "[None, 2, 1, 120, 3628800, 720, 15511210043330985984000000, 815915283247897734345611269596115894272000000000, None, None]\n"
          ]
        }
      ]
    },
    {
      "cell_type": "code",
      "source": [],
      "metadata": {
        "id": "uLl00hUyQSQ2"
      },
      "execution_count": null,
      "outputs": []
    }
  ]
}